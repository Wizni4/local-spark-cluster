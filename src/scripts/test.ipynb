{
 "cells": [
  {
   "cell_type": "code",
   "execution_count": 8,
   "id": "f82ae421-7601-4c42-bc6e-86a04b8873c1",
   "metadata": {},
   "outputs": [],
   "source": [
    "from spark_session import get_spark_session\n",
    "from scripts.pyspark_window import do_exercice\n",
    "from pyspark.sql.types import StructType, StructField, StringType, IntegerType, DoubleType"
   ]
  },
  {
   "cell_type": "code",
   "execution_count": 9,
   "id": "7d7c4cd6-a5ec-4d38-939d-e7ddff5d85cb",
   "metadata": {},
   "outputs": [],
   "source": [
    "# Create Spark session\n",
    "spark_session = get_spark_session(\"Test Jupyter\") "
   ]
  },
  {
   "cell_type": "code",
   "execution_count": 10,
   "id": "d4fc2f55-88ff-4a0d-8f83-a310683fb3ff",
   "metadata": {},
   "outputs": [
    {
     "name": "stdout",
     "output_type": "stream",
     "text": [
      "+----+-------+------------+--------------------+-------------------+-------------------+\n",
      "|year|quarter|revenue_rate|         rate_change|     cumulative_avg|         moving_avg|\n",
      "+----+-------+------------+--------------------+-------------------+-------------------+\n",
      "|2023|     Q1|        0.15|                NULL|               0.15|               0.15|\n",
      "|2023|     Q2|        0.17|0.020000000000000018|               0.16|               0.16|\n",
      "|2023|     Q3|        0.19| 0.01999999999999999|               0.17|               0.18|\n",
      "|2023|     Q4|        0.22|                0.03|             0.1825|0.20500000000000002|\n",
      "|2024|     Q1|        0.23|                NULL|               0.23|               0.23|\n",
      "|2024|     Q2|        0.21|-0.02000000000000...|               0.22|               0.22|\n",
      "|2024|     Q3|        0.24|                0.03|0.22666666666666666|0.22499999999999998|\n",
      "+----+-------+------------+--------------------+-------------------+-------------------+\n",
      "\n"
     ]
    }
   ],
   "source": [
    "df = spark_session.read_dataframe(\"Test/data.csv\", header=True, inferSchema=True)\n",
    "\n",
    "# Apply exercice\n",
    "df = do_exercice(df)\n",
    "\n",
    "# Display result\n",
    "df.show()"
   ]
  },
  {
   "cell_type": "code",
   "execution_count": 11,
   "id": "424375cc-ee51-4652-8682-9d767891857d",
   "metadata": {},
   "outputs": [],
   "source": [
    "spark_session.stop()"
   ]
  },
  {
   "cell_type": "code",
   "execution_count": null,
   "id": "24774673-6eb8-443a-b319-dcd9515a3c0a",
   "metadata": {},
   "outputs": [],
   "source": []
  }
 ],
 "metadata": {
  "kernelspec": {
   "display_name": "Python 3 (ipykernel)",
   "language": "python",
   "name": "python3"
  },
  "language_info": {
   "codemirror_mode": {
    "name": "ipython",
    "version": 3
   },
   "file_extension": ".py",
   "mimetype": "text/x-python",
   "name": "python",
   "nbconvert_exporter": "python",
   "pygments_lexer": "ipython3",
   "version": "3.11.6"
  }
 },
 "nbformat": 4,
 "nbformat_minor": 5
}
