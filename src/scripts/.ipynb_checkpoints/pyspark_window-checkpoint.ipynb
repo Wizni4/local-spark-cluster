{
 "cells": [
  {
   "cell_type": "code",
   "execution_count": null,
   "id": "f82ae421-7601-4c42-bc6e-86a04b8873c1",
   "metadata": {},
   "outputs": [],
   "source": [
    "from spark_session import get_spark_session\n",
    "from scripts.pyspark_window import do_exercice"
   ]
  },
  {
   "cell_type": "code",
   "execution_count": null,
   "id": "7d7c4cd6-a5ec-4d38-939d-e7ddff5d85cb",
   "metadata": {},
   "outputs": [],
   "source": [
    "# Create Spark session\n",
    "spark_session = get_spark_session(\"Test Jupyter\") "
   ]
  },
  {
   "cell_type": "code",
   "execution_count": null,
   "id": "d4fc2f55-88ff-4a0d-8f83-a310683fb3ff",
   "metadata": {},
   "outputs": [],
   "source": [
    "df = spark_session.read_dataframe(\"Test/data.csv\", header=True, inferSchema=True)\n",
    "\n",
    "df.show()"
   ]
  },
  {
   "cell_type": "code",
   "execution_count": null,
   "id": "12d6c8cf-b80f-48dd-bfe8-93698b13b570",
   "metadata": {},
   "outputs": [],
   "source": [
    "# Apply exercice\n",
    "df = do_exercice(df)\n",
    "\n",
    "# Display result\n",
    "df.show()"
   ]
  },
  {
   "cell_type": "code",
   "execution_count": null,
   "id": "424375cc-ee51-4652-8682-9d767891857d",
   "metadata": {},
   "outputs": [],
   "source": [
    "spark_session.stop()"
   ]
  },
  {
   "cell_type": "code",
   "execution_count": null,
   "id": "24774673-6eb8-443a-b319-dcd9515a3c0a",
   "metadata": {},
   "outputs": [],
   "source": []
  }
 ],
 "metadata": {
  "kernelspec": {
   "display_name": "Python 3 (ipykernel)",
   "language": "python",
   "name": "python3"
  },
  "language_info": {
   "codemirror_mode": {
    "name": "ipython",
    "version": 3
   },
   "file_extension": ".py",
   "mimetype": "text/x-python",
   "name": "python",
   "nbconvert_exporter": "python",
   "pygments_lexer": "ipython3",
   "version": "3.11.6"
  }
 },
 "nbformat": 4,
 "nbformat_minor": 5
}
