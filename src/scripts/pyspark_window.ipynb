{
 "cells": [
  {
   "cell_type": "code",
   "execution_count": 11,
   "id": "f82ae421-7601-4c42-bc6e-86a04b8873c1",
   "metadata": {},
   "outputs": [],
   "source": [
    "from pyspark.sql import Window\n",
    "from pyspark.sql.functions import col, avg, lag\n",
    "from spark_session import get_spark_session"
   ]
  },
  {
   "cell_type": "code",
   "execution_count": 12,
   "id": "7d7c4cd6-a5ec-4d38-939d-e7ddff5d85cb",
   "metadata": {},
   "outputs": [],
   "source": [
    "# Create Spark session\n",
    "spark_session = get_spark_session(\"Test Jupyter\") "
   ]
  },
  {
   "cell_type": "code",
   "execution_count": 13,
   "id": "d4fc2f55-88ff-4a0d-8f83-a310683fb3ff",
   "metadata": {},
   "outputs": [
    {
     "name": "stdout",
     "output_type": "stream",
     "text": [
      "+----+-------+------------+\n",
      "|year|quarter|revenue_rate|\n",
      "+----+-------+------------+\n",
      "|2023|     Q1|        0.15|\n",
      "|2023|     Q2|        0.17|\n",
      "|2023|     Q3|        0.19|\n",
      "|2023|     Q4|        0.22|\n",
      "|2024|     Q1|        0.23|\n",
      "|2024|     Q2|        0.21|\n",
      "|2024|     Q3|        0.24|\n",
      "+----+-------+------------+\n",
      "\n"
     ]
    }
   ],
   "source": [
    "df = spark_session.read_dataframe(\"data.csv\", header=True, inferSchema=True)\n",
    "\n",
    "df.show()"
   ]
  },
  {
   "cell_type": "code",
   "execution_count": 14,
   "id": "12d6c8cf-b80f-48dd-bfe8-93698b13b570",
   "metadata": {},
   "outputs": [
    {
     "name": "stdout",
     "output_type": "stream",
     "text": [
      "+----+-------+------------+--------------------+-------------------+-------------------+\n",
      "|year|quarter|revenue_rate|         rate_change|     cumulative_avg|         moving_avg|\n",
      "+----+-------+------------+--------------------+-------------------+-------------------+\n",
      "|2023|     Q1|        0.15|                NULL|               0.15|               0.15|\n",
      "|2023|     Q2|        0.17|0.020000000000000018|               0.16|               0.16|\n",
      "|2023|     Q3|        0.19| 0.01999999999999999|               0.17|               0.18|\n",
      "|2023|     Q4|        0.22|                0.03|             0.1825|0.20500000000000002|\n",
      "|2024|     Q1|        0.23|                NULL|               0.23|               0.23|\n",
      "|2024|     Q2|        0.21|-0.02000000000000...|               0.22|               0.22|\n",
      "|2024|     Q3|        0.24|                0.03|0.22666666666666666|0.22499999999999998|\n",
      "+----+-------+------------+--------------------+-------------------+-------------------+\n",
      "\n"
     ]
    }
   ],
   "source": [
    "# Define a window specification\n",
    "# The window is partitioned by year and ordered by quarter\n",
    "w = Window.partitionBy(\"year\").orderBy(\"quarter\")\n",
    "\n",
    "# 1. Calculate the rate change (difference between current and previous quarters revenue)\n",
    "df = df.withColumn(\n",
    "    \"rate_change\",\n",
    "    col(\"revenue_rate\") - lag(\"revenue_rate\", 1).over(w),\n",
    ")\n",
    "\n",
    "# 2. Calculate the cumulative average within each year\n",
    "df = df.withColumn(\n",
    "    \"cumulative_avg\",\n",
    "    avg(\"revenue_rate\").over(w.rowsBetween(Window.unboundedPreceding, Window.currentRow)),\n",
    ")\n",
    "\n",
    "# 3. Calculate the moving average over the last two quarters (current and previous quarter)\n",
    "df = df.withColumn(\n",
    "    \"moving_avg\",\n",
    "    avg(\"revenue_rate\").over(w.rowsBetween(-1, 0)),\n",
    ")\n",
    "\n",
    "# Display result\n",
    "df.show()"
   ]
  },
  {
   "cell_type": "code",
   "execution_count": 15,
   "id": "2a7d9455-9b49-465d-a077-6ca632aac544",
   "metadata": {},
   "outputs": [],
   "source": [
    "# Store output\n",
    "df.write_dataframe(format=\"csv\")"
   ]
  },
  {
   "cell_type": "code",
   "execution_count": 16,
   "id": "424375cc-ee51-4652-8682-9d767891857d",
   "metadata": {},
   "outputs": [],
   "source": [
    "spark_session.stop()"
   ]
  },
  {
   "cell_type": "markdown",
   "id": "05083c27-3e2c-4317-bab0-9e832a45742b",
   "metadata": {},
   "source": [
    "END"
   ]
  }
 ],
 "metadata": {
  "kernelspec": {
   "display_name": "Python 3 (ipykernel)",
   "language": "python",
   "name": "python3"
  },
  "language_info": {
   "codemirror_mode": {
    "name": "ipython",
    "version": 3
   },
   "file_extension": ".py",
   "mimetype": "text/x-python",
   "name": "python",
   "nbconvert_exporter": "python",
   "pygments_lexer": "ipython3",
   "version": "3.11.6"
  }
 },
 "nbformat": 4,
 "nbformat_minor": 5
}
